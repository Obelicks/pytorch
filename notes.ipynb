{
 "cells": [
  {
   "cell_type": "markdown",
   "metadata": {},
   "source": [
    "# PyTorch and Neural Networks\n",
    "## Tensors\n",
    "Like arrays from NumPy Tensors act as storage containers for numerical data.\n",
    "\n",
    "Usually data is first loaded into NumPy arrays or Pandas DataFrames.\n",
    "\n",
    "This data will have to be converted using the torch.tensor() method.\n",
    "\n",
    "Common data types include torch.int and torch.float"
   ]
  },
  {
   "cell_type": "code",
   "execution_count": 2,
   "metadata": {},
   "outputs": [],
   "source": [
    "# Library dependencies\n",
    "import pandas as pd\n",
    "import torch\n",
    "import numpy as np"
   ]
  },
  {
   "cell_type": "markdown",
   "metadata": {},
   "source": [
    "In this project we will try to build a Neural Network which can predict the rent of an apartment\n",
    "\n",
    "Lets start of simple, by converting a single apartments rent to an interger tensor"
   ]
  },
  {
   "cell_type": "code",
   "execution_count": 3,
   "metadata": {},
   "outputs": [],
   "source": [
    "rent = 2550\n",
    "\n",
    "tensor_rent = torch.tensor(rent,dtype=torch.int)"
   ]
  },
  {
   "cell_type": "markdown",
   "metadata": {},
   "source": [
    "Say we have a few more metrics available about the apartment like rent, square feet and age (in years)"
   ]
  },
  {
   "cell_type": "code",
   "execution_count": 4,
   "metadata": {},
   "outputs": [],
   "source": [
    "apartment_array = np.array([2550,750,3.5])\n",
    "\n",
    "tensor_apartment = torch.tensor(apartment_array,dtype=torch.float)"
   ]
  },
  {
   "cell_type": "markdown",
   "metadata": {},
   "source": [
    "Like i mentioned earlier the data could also come from a Pandas DataFramee. Lets load that into a tensor!"
   ]
  },
  {
   "cell_type": "code",
   "execution_count": 5,
   "metadata": {},
   "outputs": [],
   "source": [
    "#torch.tensor(df.values,dtype=torch.float) # We haven't defined a \"df\" variable yet. "
   ]
  },
  {
   "cell_type": "markdown",
   "metadata": {},
   "source": [
    "![picture](df_tensor.png \"title\")"
   ]
  },
  {
   "cell_type": "markdown",
   "metadata": {},
   "source": []
  }
 ],
 "metadata": {
  "kernelspec": {
   "display_name": "Python 3",
   "language": "python",
   "name": "python3"
  },
  "language_info": {
   "codemirror_mode": {
    "name": "ipython",
    "version": 3
   },
   "file_extension": ".py",
   "mimetype": "text/x-python",
   "name": "python",
   "nbconvert_exporter": "python",
   "pygments_lexer": "ipython3",
   "version": "3.10.12"
  }
 },
 "nbformat": 4,
 "nbformat_minor": 2
}
